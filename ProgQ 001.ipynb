{
 "cells": [
  {
   "cell_type": "code",
   "execution_count": 41,
   "id": "205fb5c2",
   "metadata": {},
   "outputs": [],
   "source": [
    "import qiskit as q\n",
    "import matplotlib.pyplot as plt"
   ]
  },
  {
   "cell_type": "code",
   "execution_count": 42,
   "id": "a3939f24",
   "metadata": {},
   "outputs": [],
   "source": [
    "##Partie A = Préparation\n",
    "#On simule un ordinateur quantique\n",
    "Simulator = q.Aer.get_backend ('qasm_simulator')"
   ]
  },
  {
   "cell_type": "code",
   "execution_count": 43,
   "id": "8782a7aa",
   "metadata": {},
   "outputs": [],
   "source": [
    "##Partie B = Construction du circuit \n",
    "#Circuit quantique avec un qubit et une mésure\n",
    "circuit = q.QuantumCircuit (1, 1)"
   ]
  },
  {
   "cell_type": "code",
   "execution_count": 44,
   "id": "b0999a66",
   "metadata": {},
   "outputs": [
    {
     "data": {
      "text/plain": [
       "<qiskit.circuit.instructionset.InstructionSet at 0x1dcb1db1d00>"
      ]
     },
     "execution_count": 44,
     "metadata": {},
     "output_type": "execute_result"
    }
   ],
   "source": [
    "#Une porte Hadamard\n",
    "circuit.h(0)"
   ]
  },
  {
   "cell_type": "code",
   "execution_count": 45,
   "id": "68864533",
   "metadata": {},
   "outputs": [
    {
     "data": {
      "text/plain": [
       "<qiskit.circuit.instructionset.InstructionSet at 0x1dcb1db1b80>"
      ]
     },
     "execution_count": 45,
     "metadata": {},
     "output_type": "execute_result"
    }
   ],
   "source": [
    "#Mesure du qubit (donne un bit classique)\n",
    "circuit.measure(0, 0)"
   ]
  },
  {
   "cell_type": "code",
   "execution_count": 46,
   "id": "fb35ebb5",
   "metadata": {},
   "outputs": [
    {
     "name": "stdout",
     "output_type": "stream",
     "text": [
      "     ┌───┐┌─┐\n",
      "  q: ┤ H ├┤M├\n",
      "     └───┘└╥┘\n",
      "c: 1/══════╩═\n",
      "           0 \n"
     ]
    }
   ],
   "source": [
    "#Affichage du circuit\n",
    "print(circuit.draw(output = 'text'))"
   ]
  },
  {
   "cell_type": "code",
   "execution_count": null,
   "id": "cce39afc",
   "metadata": {},
   "outputs": [],
   "source": []
  },
  {
   "cell_type": "code",
   "execution_count": 47,
   "id": "f7ab4004",
   "metadata": {},
   "outputs": [],
   "source": [
    "##Partie C = Exécution\n",
    "#Lancer 1000 simulations\n",
    "job = q.execute(circuit, simulator, shots=1000)\n"
   ]
  },
  {
   "cell_type": "code",
   "execution_count": 48,
   "id": "a7fa7f94",
   "metadata": {},
   "outputs": [],
   "source": [
    "##Partie D = Résultats et visualisation\n",
    "result = job.result()"
   ]
  },
  {
   "cell_type": "code",
   "execution_count": 49,
   "id": "edd94fa8",
   "metadata": {},
   "outputs": [
    {
     "name": "stdout",
     "output_type": "stream",
     "text": [
      "Nombre de '0' et de '1' :  {'0': 515, '1': 485}\n"
     ]
    }
   ],
   "source": [
    "#Comptage\n",
    "counts = result.get_counts(circuit)\n",
    "print(\"Nombre de '0' et de '1' : \", counts)"
   ]
  },
  {
   "cell_type": "code",
   "execution_count": null,
   "id": "4d356000",
   "metadata": {},
   "outputs": [],
   "source": [
    "fig, ax= plt.subplots()\n",
    "\n",
    "q.visualization.plot_histogram(counts, ax=ax)\n",
    "plt.show()"
   ]
  },
  {
   "cell_type": "code",
   "execution_count": null,
   "id": "de69e8cb",
   "metadata": {},
   "outputs": [],
   "source": []
  },
  {
   "cell_type": "code",
   "execution_count": null,
   "id": "74891344",
   "metadata": {},
   "outputs": [],
   "source": []
  },
  {
   "cell_type": "code",
   "execution_count": null,
   "id": "b221ca54",
   "metadata": {},
   "outputs": [],
   "source": []
  }
 ],
 "metadata": {
  "kernelspec": {
   "display_name": "Qiskit (stable)",
   "language": "python",
   "name": "qiskit-stable"
  },
  "language_info": {
   "codemirror_mode": {
    "name": "ipython",
    "version": 3
   },
   "file_extension": ".py",
   "mimetype": "text/x-python",
   "name": "python",
   "nbconvert_exporter": "python",
   "pygments_lexer": "ipython3",
   "version": "3.8.8"
  }
 },
 "nbformat": 4,
 "nbformat_minor": 5
}
