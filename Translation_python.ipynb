{
 "cells": [
  {
   "cell_type": "code",
   "execution_count": 2,
   "id": "ab90619c",
   "metadata": {},
   "outputs": [],
   "source": [
    "from deep_translator import GoogleTranslator"
   ]
  },
  {
   "cell_type": "code",
   "execution_count": 3,
   "id": "b085ac96",
   "metadata": {},
   "outputs": [
    {
     "name": "stdout",
     "output_type": "stream",
     "text": [
      "Texte: hello\n",
      "Bonjour\n"
     ]
    }
   ],
   "source": [
    "texte = input(\"Texte: \")\n",
    "traduction = GoogleTranslator(source=\"auto\", target=\"fr\").translate(texte)\n",
    "print(traduction)"
   ]
  },
  {
   "cell_type": "code",
   "execution_count": 5,
   "id": "767ea538",
   "metadata": {},
   "outputs": [],
   "source": [
    "#pour traduire un texte contenu dans un fichier\n",
    "\n",
    "#traduction_fichier = GoogleTranslator(source=\"auto\", target=\"fr\").translate_file(\"file.txt\")\n",
    "#print(traduction_fichier)\n",
    "\n",
    "#liste = [\"Hello! This is some text in English.\", \"Hola. Bienvenido a mi video youtube.\"]\n",
    "#traduction_liste = GoogleTranslator(source=\"auto\", target=\"fr\").translate_batch(liste)\n",
    "#print(traduction_liste)"
   ]
  },
  {
   "cell_type": "code",
   "execution_count": null,
   "id": "071704ea",
   "metadata": {},
   "outputs": [],
   "source": []
  }
 ],
 "metadata": {
  "kernelspec": {
   "display_name": "Python 3",
   "language": "python",
   "name": "python3"
  }
 },
 "nbformat": 4,
 "nbformat_minor": 5
}
